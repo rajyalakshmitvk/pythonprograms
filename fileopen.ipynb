{
 "cells": [
  {
   "cell_type": "code",
   "execution_count": 17,
   "metadata": {},
   "outputs": [
    {
     "name": "stdout",
     "output_type": "stream",
     "text": [
      "hi\n",
      "hello\n",
      "how are you\n",
      "\n"
     ]
    }
   ],
   "source": [
    "f=open('web.txt','r')\n",
    "for line in f:\n",
    "    if(line.startswith('h')):\n",
    "        print(line.rstrip())\n",
    "print(f.read())"
   ]
  },
  {
   "cell_type": "code",
   "execution_count": 18,
   "metadata": {},
   "outputs": [
    {
     "name": "stdout",
     "output_type": "stream",
     "text": [
      "hi\n",
      "hello\n",
      "how are you\n",
      "i am rajyalakshmi\n"
     ]
    }
   ],
   "source": [
    "with open('web.txt','r') as f:\n",
    "    for line in f:\n",
    "        print(line.rstrip())"
   ]
  },
  {
   "cell_type": "code",
   "execution_count": null,
   "metadata": {
    "scrolled": true
   },
   "outputs": [],
   "source": [
    "import os\n",
    "path='Myfiles/myfile.txt'\n",
    "with open(path,'w') as f:\n",
    "    f.writelines(input().split())\n",
    "    print('Myfile is created')\n"
   ]
  },
  {
   "cell_type": "code",
   "execution_count": 5,
   "metadata": {},
   "outputs": [
    {
     "name": "stdout",
     "output_type": "stream",
     "text": [
      "Enter number of contacts2\n",
      "Enter namerrr\n",
      "Enter mobile number122121\n",
      "Contact Saved..\n",
      "\n",
      "Enter namerara\n",
      "Enter mobile number21221\n",
      "Contact Saved..\n",
      "\n"
     ]
    }
   ],
   "source": [
    "def createcontact(name,mobile):\n",
    "    path='Myfiles/contacts.txt'\n",
    "    with open(path,'a') as f:\n",
    "        f.write('\\n'+name+'\\t'+mobile)\n",
    "    return 'Contact Saved..\\n'\n",
    "n=int(input('Enter number of contacts'))\n",
    "for i in range(n):\n",
    "    name=input('Enter name')\n",
    "    mobile=input('Enter mobile number')\n",
    "    print(createcontact(name,mobile))\n",
    "    "
   ]
  },
  {
   "cell_type": "code",
   "execution_count": 15,
   "metadata": {},
   "outputs": [
    {
     "name": "stdout",
     "output_type": "stream",
     "text": [
      "Enter name to be searchedrajyalakshmi\n",
      "Contact does not exist\n"
     ]
    }
   ],
   "source": [
    "def searchContact(name):\n",
    "    path='Myfiles/contacts.txt'\n",
    "    flag=0\n",
    "    with open(path,'r') as f:\n",
    "        for line in f:\n",
    "            details=line.split('\\t')\n",
    "            if(details[0]==name):\n",
    "                flag=1\n",
    "    if(flag==1):\n",
    "        return 'Contact existing:'+details[1]\n",
    "    else:\n",
    "        return ''\n",
    "name=input('Enter name to be searched')\n",
    "res=searchContact(name)\n",
    "if(res==''):\n",
    "    print('Contact does not exist')\n",
    "else:\n",
    "    print(res)\n",
    "    "
   ]
  },
  {
   "cell_type": "code",
   "execution_count": null,
   "metadata": {},
   "outputs": [],
   "source": []
  }
 ],
 "metadata": {
  "kernelspec": {
   "display_name": "Python 3",
   "language": "python",
   "name": "python3"
  },
  "language_info": {
   "codemirror_mode": {
    "name": "ipython",
    "version": 3
   },
   "file_extension": ".py",
   "mimetype": "text/x-python",
   "name": "python",
   "nbconvert_exporter": "python",
   "pygments_lexer": "ipython3",
   "version": "3.7.3"
  }
 },
 "nbformat": 4,
 "nbformat_minor": 2
}
