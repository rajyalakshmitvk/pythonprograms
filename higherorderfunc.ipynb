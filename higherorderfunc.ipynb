{
 "cells": [
  {
   "cell_type": "code",
   "execution_count": 6,
   "metadata": {},
   "outputs": [
    {
     "name": "stdout",
     "output_type": "stream",
     "text": [
      "1 2 3 4 5\n",
      "15\n"
     ]
    }
   ],
   "source": [
    "from functools import reduce\n",
    "l=list(map(int,input().split()))\n",
    "res=reduce(lambda x,y:x+y,l)\n",
    "print(res)"
   ]
  },
  {
   "cell_type": "code",
   "execution_count": 31,
   "metadata": {},
   "outputs": [
    {
     "name": "stdout",
     "output_type": "stream",
     "text": [
      "[('Kavali', 126.0), ('Nellore', 133.20000000000002), ('Guntur', 133.20000000000002), ('Tenali', 127.8), ('Vijayawada', 135.0)]\n"
     ]
    }
   ],
   "source": [
    "weather_data=[('Kavali',38),('Nellore',42),('Guntur',42),('Tenali',39),('Vijayawada',43)]\n",
    "def celsiustofarenheit(x):\n",
    "    return (x[0],(9/5*(x[1]+32)))\n",
    "l=list(map(celsiustofarenheit,weather_data))\n",
    "print(l)"
   ]
  },
  {
   "cell_type": "code",
   "execution_count": 33,
   "metadata": {},
   "outputs": [
    {
     "name": "stdout",
     "output_type": "stream",
     "text": [
      "[1.7320508075688772, 8.660254037844387, 6.708203932499369, 11.224972160321824, 69.92853494818836, 59.23681287847955]\n"
     ]
    }
   ],
   "source": [
    "from math import sqrt\n",
    "l=[(1,1,1),(1,5,7),(2,4,5),(3,6,9),(23,35,56),(22,33,44)]\n",
    "def dist(t):\n",
    "    return sqrt(t[0]**2+t[1]**2+t[2]**2)\n",
    "res=list(map(dist,l))\n",
    "print(res)"
   ]
  },
  {
   "cell_type": "code",
   "execution_count": 38,
   "metadata": {},
   "outputs": [
    {
     "name": "stdout",
     "output_type": "stream",
     "text": [
      "[6, 18, 30]\n"
     ]
    }
   ],
   "source": [
    "l6=[[1,2,3],[3,4,5,6],[4,5,6,7,8]]\n",
    "res=list(map(sum,l6))\n",
    "print(res)"
   ]
  },
  {
   "cell_type": "code",
   "execution_count": 39,
   "metadata": {},
   "outputs": [
    {
     "name": "stdout",
     "output_type": "stream",
     "text": [
      "1 2 3 4 5 6 7 8 9 10\n",
      "[2, 4, 6, 8, 10]\n"
     ]
    }
   ],
   "source": [
    "def even(x):\n",
    "    return x%2==0\n",
    "res=list(filter(even,list(map(int,input().split()))))\n",
    "print(res)"
   ]
  },
  {
   "cell_type": "code",
   "execution_count": 48,
   "metadata": {},
   "outputs": [
    {
     "name": "stdout",
     "output_type": "stream",
     "text": [
      "3 5 6 7 8 9 32 23\n",
      "[3, 5, 7, 23]\n"
     ]
    }
   ],
   "source": [
    "def prime(x):\n",
    "    n=len([i for i in range(2,x) if x%i==0])\n",
    "    if n==0:\n",
    "        return True\n",
    "    else:\n",
    "        return False\n",
    "res=list(filter(prime,list(map(int,input().split()))))\n",
    "print(res)"
   ]
  },
  {
   "cell_type": "code",
   "execution_count": 50,
   "metadata": {},
   "outputs": [
    {
     "name": "stdout",
     "output_type": "stream",
     "text": [
      "1 2 3 4 5\n",
      "15\n"
     ]
    }
   ],
   "source": [
    "from functools import reduce\n",
    "l=list(map(int,input().split()))\n",
    "res=reduce(lambda x,y:x+y,l)\n",
    "print(res)"
   ]
  },
  {
   "cell_type": "code",
   "execution_count": null,
   "metadata": {},
   "outputs": [],
   "source": []
  }
 ],
 "metadata": {
  "kernelspec": {
   "display_name": "Python 3",
   "language": "python",
   "name": "python3"
  },
  "language_info": {
   "codemirror_mode": {
    "name": "ipython",
    "version": 3
   },
   "file_extension": ".py",
   "mimetype": "text/x-python",
   "name": "python",
   "nbconvert_exporter": "python",
   "pygments_lexer": "ipython3",
   "version": "3.7.3"
  }
 },
 "nbformat": 4,
 "nbformat_minor": 2
}
