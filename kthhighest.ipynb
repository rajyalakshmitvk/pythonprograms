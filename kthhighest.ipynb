{
 "cells": [
  {
   "cell_type": "code",
   "execution_count": 23,
   "metadata": {},
   "outputs": [
    {
     "name": "stdout",
     "output_type": "stream",
     "text": [
      "Enter a stringandhrapradesh\n",
      "Enter kth position3\n",
      "{'a': 3, 'd': 2, 'e': 1, 'h': 2, 'n': 1, 'p': 1, 'r': 2, 's': 1}\n",
      "e\n"
     ]
    }
   ],
   "source": [
    "l=sorted(list(input('Enter a string')))\n",
    "d={}\n",
    "for i in l:\n",
    "    d[i]=l.count(i)\n",
    "k=int(input('Enter kth position'))\n",
    "vals=sorted(list(set(d.values())))\n",
    "li=[]\n",
    "print(d)\n",
    "if(k>len(vals)):\n",
    "    print('Invalid position')\n",
    "else:\n",
    "    for key,val in d.items():\n",
    "        if val==vals[-k]:\n",
    "            li.append(key)\n",
    "    if(len(li)>1):\n",
    "        print(min(li))\n",
    "    else:\n",
    "        print(li)"
   ]
  },
  {
   "cell_type": "code",
   "execution_count": null,
   "metadata": {},
   "outputs": [],
   "source": []
  }
 ],
 "metadata": {
  "kernelspec": {
   "display_name": "Python 3",
   "language": "python",
   "name": "python3"
  },
  "language_info": {
   "codemirror_mode": {
    "name": "ipython",
    "version": 3
   },
   "file_extension": ".py",
   "mimetype": "text/x-python",
   "name": "python",
   "nbconvert_exporter": "python",
   "pygments_lexer": "ipython3",
   "version": "3.7.3"
  }
 },
 "nbformat": 4,
 "nbformat_minor": 2
}
